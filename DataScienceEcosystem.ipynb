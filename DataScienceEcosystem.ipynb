{
  "nbformat": 4,
  "nbformat_minor": 0,
  "metadata": {
    "colab": {
      "provenance": []
    },
    "kernelspec": {
      "name": "python3",
      "display_name": "Python 3"
    },
    "language_info": {
      "name": "python"
    }
  },
  "cells": [
    {
      "cell_type": "markdown",
      "source": [
        "# **Data Science Tools and Ecosystem**\n"
      ],
      "metadata": {
        "id": "60jjz_Eb9ydx"
      }
    },
    {
      "cell_type": "markdown",
      "source": [
        "## Author: Carlos C. Gomez, PhD"
      ],
      "metadata": {
        "id": "-xZQs62uTzCo"
      }
    },
    {
      "cell_type": "markdown",
      "source": [
        "This notebook leverages Junyper and Python to summarize some of the Data Science tools and Ecosystem."
      ],
      "metadata": {
        "id": "d1ZLha1rJW0T"
      }
    },
    {
      "cell_type": "markdown",
      "source": [
        "**Objectives**\n",
        "1. Demonstrate use of Jupyter notebooks\n",
        "2. Practice version control with GitHub\n",
        "3. Identify popular languages used in Data Science\n",
        "4. List commonly used Python and R libraries in Data Science\n",
        "5. Describe open source tools used in Data Science"
      ],
      "metadata": {
        "id": "EhmW6Rt3SZ85"
      }
    },
    {
      "cell_type": "markdown",
      "source": [
        "## **1. Languages**\n",
        "\n",
        "Some of the popular languages that Data Scientists use are:\n",
        "\n",
        "1. Python\n",
        "2. R\n",
        "3. SQL\n",
        "4. Julia\n",
        "5. Java\n",
        "6. Scala\n",
        "7. Mathlab\n",
        "\n",
        "\n",
        "\n",
        "\n",
        "\n",
        "\n",
        "\n"
      ],
      "metadata": {
        "id": "XNU7nLOX9_W-"
      }
    },
    {
      "cell_type": "markdown",
      "source": [
        "##**2. Libraries**\n",
        "\n",
        " Some of the popular sed libraries used by Data Scientists include:\n",
        "\n",
        "***Python Libraries***\n",
        "* Pandas\n",
        "* NumPy\n",
        "* MatPlotlib\n",
        "* Seaborn\n",
        "* TensorFlow\n",
        "* Skit-learn\n",
        "* Keras\n",
        "* SciPy\n",
        "* PyTorch\n",
        "\n",
        "***R Libraries***\n",
        "* ggplot2\n",
        "* dplyr\n",
        "* tidyr\n",
        "* caret"
      ],
      "metadata": {
        "id": "hmtNZ5TdCZDz"
      }
    },
    {
      "cell_type": "markdown",
      "source": [
        "## **3. Data Science Tools**\n",
        "\n",
        "| Tool        | Description                          |\n",
        "|-------------|--------------------------------------|\n",
        "| Jupyter     | Interactive computing environment    |\n",
        "| Pandas      | Data manipulation and analysis       |\n",
        "| Matplotlib  | Visualizations                       |\n",
        "| Seaborn     | Plots, heat maps, time series, etc.  |\n",
        "| Scikit-learn| Machine Learning & Statistics        |\n",
        "| Keras       | Deep Learning Neural Networks        |\n",
        "| PySpark     | Python API for Apache Spark          |\n",
        "| Tensor Flow | Machine Learning and deep learning   |\n",
        "| Keras       | Artificial neural networks           |\n",
        "| ggplot      | Graphics on R                        |\n",
        "| Apache Spark| Open source for Big Data             |\n",
        "| Hadoop      | Distributed processing for Big Data  |\n",
        "| Tableau     | Business Intelligence Visualization  |\n",
        "| Power Bi    | Business Intelliegence Visualization |\n",
        "\n",
        "\n",
        "\n",
        "\n"
      ],
      "metadata": {
        "id": "LfHv4crIDY2G"
      }
    },
    {
      "cell_type": "markdown",
      "source": [
        "## **4. Arithmetic Expressions**\n",
        "\n",
        "### Below are examples of seven arithmetic expressions in Python"
      ],
      "metadata": {
        "id": "Xop49IF5Eo4S"
      }
    },
    {
      "cell_type": "code",
      "source": [
        "# Addition (+) of two operands\n",
        "\n",
        "4 + 3"
      ],
      "metadata": {
        "colab": {
          "base_uri": "https://localhost:8080/"
        },
        "id": "6zckPWlBOLKz",
        "outputId": "7af62da8-ad37-4fd4-c7c3-9c20515788ed"
      },
      "execution_count": 8,
      "outputs": [
        {
          "output_type": "execute_result",
          "data": {
            "text/plain": [
              "7"
            ]
          },
          "metadata": {},
          "execution_count": 8
        }
      ]
    },
    {
      "cell_type": "code",
      "source": [
        "# Subtraction (-) of second operand from the first\n",
        "\n",
        "4 - 3"
      ],
      "metadata": {
        "colab": {
          "base_uri": "https://localhost:8080/"
        },
        "id": "phZqplX4Ol-B",
        "outputId": "cef56796-5c14-4a87-cb25-d3fd5809aae8"
      },
      "execution_count": 9,
      "outputs": [
        {
          "output_type": "execute_result",
          "data": {
            "text/plain": [
              "1"
            ]
          },
          "metadata": {},
          "execution_count": 9
        }
      ]
    },
    {
      "cell_type": "code",
      "source": [
        "# Multiplication (*) of two operands\n",
        "\n",
        "4 * 3"
      ],
      "metadata": {
        "colab": {
          "base_uri": "https://localhost:8080/"
        },
        "id": "fNz_HgzhOl6t",
        "outputId": "f942ce3f-c70d-4a12-aae8-b75ad5b8a438"
      },
      "execution_count": 10,
      "outputs": [
        {
          "output_type": "execute_result",
          "data": {
            "text/plain": [
              "12"
            ]
          },
          "metadata": {},
          "execution_count": 10
        }
      ]
    },
    {
      "cell_type": "code",
      "source": [
        "# Division (/) of the first operand by the second\n",
        "\n",
        "4 / 3"
      ],
      "metadata": {
        "colab": {
          "base_uri": "https://localhost:8080/"
        },
        "id": "m0idxijjOl1I",
        "outputId": "7a4c2e45-e182-4e03-e97b-7af5c1458cbc"
      },
      "execution_count": 13,
      "outputs": [
        {
          "output_type": "execute_result",
          "data": {
            "text/plain": [
              "1.3333333333333333"
            ]
          },
          "metadata": {},
          "execution_count": 13
        }
      ]
    },
    {
      "cell_type": "code",
      "source": [
        "# Floor Division (//) of the first operand by the second\n",
        "# returns the largest interger less than or equal to the result\n",
        "\n",
        "4//3"
      ],
      "metadata": {
        "colab": {
          "base_uri": "https://localhost:8080/"
        },
        "id": "T9QTKab1OltS",
        "outputId": "b031b656-70ba-4771-d50d-691331593163"
      },
      "execution_count": 14,
      "outputs": [
        {
          "output_type": "execute_result",
          "data": {
            "text/plain": [
              "1"
            ]
          },
          "metadata": {},
          "execution_count": 14
        }
      ]
    },
    {
      "cell_type": "code",
      "source": [
        "# Moodulus (%) - returns the remainder when the first operand is divdied by the second\n",
        "\n",
        "4 % 3"
      ],
      "metadata": {
        "colab": {
          "base_uri": "https://localhost:8080/"
        },
        "id": "kJGGqTCcOlgE",
        "outputId": "f4203582-4d52-4743-ff79-6012b358f7a7"
      },
      "execution_count": 15,
      "outputs": [
        {
          "output_type": "execute_result",
          "data": {
            "text/plain": [
              "1"
            ]
          },
          "metadata": {},
          "execution_count": 15
        }
      ]
    },
    {
      "cell_type": "code",
      "source": [
        "# Exponentiation (**) raises the first operand by the power of the second\n",
        "\n",
        "4 ** 3"
      ],
      "metadata": {
        "colab": {
          "base_uri": "https://localhost:8080/"
        },
        "id": "CGJbuRA3PkMH",
        "outputId": "c4657825-45c0-47c1-b5ca-e3c13b9ff72c"
      },
      "execution_count": 16,
      "outputs": [
        {
          "output_type": "execute_result",
          "data": {
            "text/plain": [
              "64"
            ]
          },
          "metadata": {},
          "execution_count": 16
        }
      ]
    },
    {
      "cell_type": "code",
      "source": [
        "# This is an example of order of operations.\n",
        "# first multiply operands in parenthesis then addition.\n",
        "\n",
        "(3*4)+5"
      ],
      "metadata": {
        "colab": {
          "base_uri": "https://localhost:8080/"
        },
        "id": "GxMqhphvQct4",
        "outputId": "4abee6c3-c5e7-48af-b8a7-4fe75330c6e8"
      },
      "execution_count": 17,
      "outputs": [
        {
          "output_type": "execute_result",
          "data": {
            "text/plain": [
              "17"
            ]
          },
          "metadata": {},
          "execution_count": 17
        }
      ]
    },
    {
      "cell_type": "code",
      "source": [
        "# This will convert 200 minutes tohours by diving by 60\n",
        "\n",
        "total_minutes = 200\n",
        "minutes_per_hour = 60\n",
        "\n",
        "hours = total_minutes / minutes_per_hour\n",
        "\n",
        "print(f'{total_minutes} minutes is {hours:.2f} hours')\n",
        "\n"
      ],
      "metadata": {
        "colab": {
          "base_uri": "https://localhost:8080/"
        },
        "id": "wpTD4n0zEr_y",
        "outputId": "48116b79-94cb-43c9-fee7-9c6c0bb734ed"
      },
      "execution_count": 19,
      "outputs": [
        {
          "output_type": "stream",
          "name": "stdout",
          "text": [
            "200 minutes is 3.33 hours\n"
          ]
        }
      ]
    },
    {
      "cell_type": "markdown",
      "source": [],
      "metadata": {
        "id": "WUaH2IpFQLFF"
      }
    },
    {
      "cell_type": "markdown",
      "source": [],
      "metadata": {
        "id": "oUyW54ChQLIN"
      }
    },
    {
      "cell_type": "markdown",
      "source": [],
      "metadata": {
        "id": "x6zNEH9EQLLG"
      }
    }
  ]
}